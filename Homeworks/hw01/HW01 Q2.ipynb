{
 "cells": [
  {
   "cell_type": "code",
   "execution_count": 26,
   "id": "cc818486",
   "metadata": {},
   "outputs": [],
   "source": [
    "from scipy.stats import bernoulli\n",
    "from scipy.stats import uniform"
   ]
  },
  {
   "cell_type": "code",
   "execution_count": 27,
   "id": "ee80ff80",
   "metadata": {},
   "outputs": [],
   "source": [
    "def fn_1(pi_0):\n",
    "    p_vals = []\n",
    "    for i in np.arange(1, 1001):\n",
    "        theta_i = scipy.stats.bernoulli(1-pi_0)\n",
    "        if theta_i == 0:\n",
    "            p_i = scipy.stats.uniform(0, 1)\n",
    "            p_vals.append(p_i)\n",
    "        else:\n",
    "            z_i = normal(3, 1)\n",
    "            p_i = scipy.stats.norm.cdf(-z_i)\n",
    "            p_vals.append(p_i)\n",
    "            \n",
    "    return p_vals\n",
    "            "
   ]
  },
  {
   "cell_type": "code",
   "execution_count": 16,
   "id": "a923abe8",
   "metadata": {},
   "outputs": [],
   "source": [
    "def fn_2(pi_0):\n",
    "    p_vals = []\n",
    "    for i in np.arange(1, pi_0*1000 + 1):\n",
    "        theta_i = 0\n",
    "        p_i = uniform(0, 1)\n",
    "        p_vals.append(p_i)\n",
    "    for i in np.arange(pi_0*1000 + 1, N+1):\n",
    "        theta_i = 1\n",
    "        z_i = normal(3, 1)\n",
    "        p_i = scipy.stats.norm.cdf(-z_i)\n",
    "        p_vals.append(p_i)\n",
    "        \n",
    "    return p_vals"
   ]
  },
  {
   "cell_type": "code",
   "execution_count": 17,
   "id": "664c96e2",
   "metadata": {},
   "outputs": [],
   "source": [
    "def fn_3(pi_0):\n",
    "    p_vals = []\n",
    "    for i in np.arange(1, (1000 - pi_0*1000) + 1):\n",
    "        theta_i = 1\n",
    "        z_i = normal(3, 1)\n",
    "        p_i = scipy.stats.norm.cdf(-z_i)\n",
    "        p_vals.append(p_i)\n",
    "    for i in np.arange((1000 - pi_0*1000) + 1, N+1):\n",
    "        theta_i = 0\n",
    "        p_i = uniform(0, 1)\n",
    "        p_vals.append(p_i)\n",
    "        \n",
    "    return p_vals"
   ]
  },
  {
   "cell_type": "code",
   "execution_count": 28,
   "id": "942dd361",
   "metadata": {},
   "outputs": [
    {
     "ename": "NameError",
     "evalue": "name 'scipy' is not defined",
     "output_type": "error",
     "traceback": [
      "\u001b[0;31m---------------------------------------------------------------------------\u001b[0m",
      "\u001b[0;31mNameError\u001b[0m                                 Traceback (most recent call last)",
      "\u001b[0;32m<ipython-input-28-ffc559552ba4>\u001b[0m in \u001b[0;36m<module>\u001b[0;34m\u001b[0m\n\u001b[1;32m     24\u001b[0m     \u001b[0;31m#return(t1, t2)\u001b[0m\u001b[0;34m\u001b[0m\u001b[0;34m\u001b[0m\u001b[0;34m\u001b[0m\u001b[0m\n\u001b[1;32m     25\u001b[0m \u001b[0;34m\u001b[0m\u001b[0m\n\u001b[0;32m---> 26\u001b[0;31m \u001b[0mcheck_1\u001b[0m\u001b[0;34m(\u001b[0m\u001b[0mfn_1\u001b[0m\u001b[0;34m(\u001b[0m\u001b[0;36m0.3\u001b[0m\u001b[0;34m)\u001b[0m\u001b[0;34m,\u001b[0m \u001b[0;36m0.3\u001b[0m\u001b[0;34m)\u001b[0m\u001b[0;34m\u001b[0m\u001b[0;34m\u001b[0m\u001b[0m\n\u001b[0m",
      "\u001b[0;32m<ipython-input-27-6da4978c759b>\u001b[0m in \u001b[0;36mfn_1\u001b[0;34m(pi_0)\u001b[0m\n\u001b[1;32m      2\u001b[0m     \u001b[0mp_vals\u001b[0m \u001b[0;34m=\u001b[0m \u001b[0;34m[\u001b[0m\u001b[0;34m]\u001b[0m\u001b[0;34m\u001b[0m\u001b[0;34m\u001b[0m\u001b[0m\n\u001b[1;32m      3\u001b[0m     \u001b[0;32mfor\u001b[0m \u001b[0mi\u001b[0m \u001b[0;32min\u001b[0m \u001b[0mnp\u001b[0m\u001b[0;34m.\u001b[0m\u001b[0marange\u001b[0m\u001b[0;34m(\u001b[0m\u001b[0;36m1\u001b[0m\u001b[0;34m,\u001b[0m \u001b[0;36m1001\u001b[0m\u001b[0;34m)\u001b[0m\u001b[0;34m:\u001b[0m\u001b[0;34m\u001b[0m\u001b[0;34m\u001b[0m\u001b[0m\n\u001b[0;32m----> 4\u001b[0;31m         \u001b[0mtheta_i\u001b[0m \u001b[0;34m=\u001b[0m \u001b[0mscipy\u001b[0m\u001b[0;34m.\u001b[0m\u001b[0mstats\u001b[0m\u001b[0;34m.\u001b[0m\u001b[0mbernoulli\u001b[0m\u001b[0;34m(\u001b[0m\u001b[0;36m1\u001b[0m\u001b[0;34m-\u001b[0m\u001b[0mpi_0\u001b[0m\u001b[0;34m)\u001b[0m\u001b[0;34m\u001b[0m\u001b[0;34m\u001b[0m\u001b[0m\n\u001b[0m\u001b[1;32m      5\u001b[0m         \u001b[0;32mif\u001b[0m \u001b[0mtheta_i\u001b[0m \u001b[0;34m==\u001b[0m \u001b[0;36m0\u001b[0m\u001b[0;34m:\u001b[0m\u001b[0;34m\u001b[0m\u001b[0;34m\u001b[0m\u001b[0m\n\u001b[1;32m      6\u001b[0m             \u001b[0mp_i\u001b[0m \u001b[0;34m=\u001b[0m \u001b[0mscipy\u001b[0m\u001b[0;34m.\u001b[0m\u001b[0mstats\u001b[0m\u001b[0;34m.\u001b[0m\u001b[0muniform\u001b[0m\u001b[0;34m(\u001b[0m\u001b[0;36m0\u001b[0m\u001b[0;34m,\u001b[0m \u001b[0;36m1\u001b[0m\u001b[0;34m)\u001b[0m\u001b[0;34m\u001b[0m\u001b[0;34m\u001b[0m\u001b[0m\n",
      "\u001b[0;31mNameError\u001b[0m: name 'scipy' is not defined"
     ]
    }
   ],
   "source": [
    "import numpy as np\n",
    "from scipy import stats\n",
    "\n",
    "unif_val = np.random.uniform(0, 1, 50000)  # large sample from U(0, 1)\n",
    "norm_val = np.random.normal(3, 1, 50000)   # large sample from N(3, 1)\n",
    "alternative_distr = 1 - stats.norm.cdf(norm_val)   # corresponding p-values if H_0: N(0, 1)\n",
    "\n",
    "\n",
    "def check_1(array, pi_0):\n",
    "    # Inputs: array - array of p-values, pi_0 - fraction of null p-values\n",
    "    # Output: error if array doesn't seem correct\n",
    "\n",
    "    # mixture of p-values from null and alternative\n",
    "    mixture_distr = np.random.choice(np.concatenate(\n",
    "        (unif_val[0 : int(pi_0*len(unif_val))],\n",
    "        alternative_distr[int(pi_0*len(alternative_distr)) : len(alternative_distr)])),\n",
    "                                    50000, replace = False)\n",
    "    # test if first half is balanced\n",
    "    t1 = stats.kstest(array[0 : int(0.5*len(array))], mixture_distr)[1] \n",
    "    # test if second half is balanced\n",
    "    t2 = stats.kstest(array[int(0.5*len(array)) + 1 : len(array)], mixture_distr)[1] \n",
    "    assert((t1 > 0.05) & (t2 > 0.05))  \n",
    "    return('The array of p-values looks good!')\n",
    "    #return(t1, t2)\n",
    "    \n",
    "check_1(fn_1(0.3), 0.3)"
   ]
  },
  {
   "cell_type": "code",
   "execution_count": 11,
   "id": "785e36e8",
   "metadata": {},
   "outputs": [],
   "source": [
    "def check_2(array, pi_0):\n",
    "    # Inputs: array - array of p-values, pi_0 - fraction of null p-values\n",
    "    # Output: error if array doesn't seem correct\n",
    "    \n",
    "    # test if first block of p-val are from null\n",
    "    t1 = stats.kstest(array[0 : int(pi_0*len(array))], 'uniform')[1] \n",
    "    # test if second block of p-val are from alternative\n",
    "    t2 = stats.kstest(array[int(pi_0*len(array)) + 1 : len(array)], alternative_distr)[1] \n",
    "    assert((t1 > 0.05) & (t2 > 0.05))\n",
    "    return('The array of p-values looks good!')\n",
    "    #return(t1, t2)"
   ]
  },
  {
   "cell_type": "code",
   "execution_count": 12,
   "id": "05ea487c",
   "metadata": {},
   "outputs": [],
   "source": [
    "def check_3(array, pi_0):\n",
    "    # Inputs: array - array of p-values, pi_0 - fraction of null p-values\n",
    "    # Output: error if array doesn't seem correct\n",
    "    \n",
    "    # test if first block of p-val are from alternative\n",
    "    t1 = stats.kstest(array[0 : len(array) - int(pi_0*len(array))], alternative_distr)[1]\n",
    "    # test if second block of p-val are from null\n",
    "    t2 = stats.kstest(array[len(array) - int(pi_0*len(array)) + 1 : len(array)], 'uniform')[1]\n",
    "    assert((t1 > 0.05) & (t2 > 0.05))\n",
    "    return('The array of p-values looks good!')\n",
    "    #return(t1, t2)"
   ]
  },
  {
   "cell_type": "code",
   "execution_count": null,
   "id": "afa0d0ec",
   "metadata": {},
   "outputs": [],
   "source": []
  }
 ],
 "metadata": {
  "kernelspec": {
   "display_name": "Python 3",
   "language": "python",
   "name": "python3"
  },
  "language_info": {
   "codemirror_mode": {
    "name": "ipython",
    "version": 3
   },
   "file_extension": ".py",
   "mimetype": "text/x-python",
   "name": "python",
   "nbconvert_exporter": "python",
   "pygments_lexer": "ipython3",
   "version": "3.8.8"
  }
 },
 "nbformat": 4,
 "nbformat_minor": 5
}
